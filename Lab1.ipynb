{
  "nbformat": 4,
  "nbformat_minor": 0,
  "metadata": {
    "colab": {
      "provenance": [],
      "authorship_tag": "ABX9TyO3Ed4L7pfeS346UplnYeSo",
      "include_colab_link": true
    },
    "kernelspec": {
      "name": "python3",
      "display_name": "Python 3"
    },
    "language_info": {
      "name": "python"
    }
  },
  "cells": [
    {
      "cell_type": "markdown",
      "metadata": {
        "id": "view-in-github",
        "colab_type": "text"
      },
      "source": [
        "<a href=\"https://colab.research.google.com/github/MididoddiSindhu05/2303A51462_B-7/blob/main/Lab1.ipynb\" target=\"_parent\"><img src=\"https://colab.research.google.com/assets/colab-badge.svg\" alt=\"Open In Colab\"/></a>"
      ]
    },
    {
      "cell_type": "markdown",
      "source": [
        "#Problem-01"
      ],
      "metadata": {
        "id": "LeBv1UkyHdAw"
      }
    },
    {
      "cell_type": "code",
      "source": [
        "def factorial_recursive_trace(n, depth=0):\n",
        "    indent = \"  \" * depth\n",
        "    print(f\"{indent}Call: factorial({n})\")\n",
        "    if n == 0 or n == 1:\n",
        "        print(f\"{indent}Base Case: factorial({n}) = 1\")\n",
        "        return 1\n",
        "    print(f\"{indent}Recursive Case: factorial({n}) = {n} * factorial({n-1})\")\n",
        "    result = n * factorial_recursive_trace(n - 1, depth + 1)\n",
        "    print(f\"{indent}Return: factorial({n}) = {result}\")\n",
        "    return result\n",
        "if __name__ == \"__main__\":\n",
        "    try:\n",
        "        n = int(input(\"Enter a number (≤ 10): \"))\n",
        "        if n < 0:\n",
        "            print(\"Factorial is not defined for negative numbers.\")\n",
        "        elif n > 10:\n",
        "            print(\"Please enter a smaller number (≤ 10) to visualize recursion.\")\n",
        "        else:\n",
        "            print(\"\\n--- Recursion Trace ---\")\n",
        "            result = factorial_recursive_trace(n)\n",
        "            print(f\"\\nFinal Result: factorial({n}) = {result}\")\n",
        "    except ValueError:\n",
        "        print(\"Invalid input. Please enter an integer.\")\n"
      ],
      "metadata": {
        "colab": {
          "base_uri": "https://localhost:8080/"
        },
        "id": "f6YK09diHb_Y",
        "outputId": "7c7c1f9e-09ed-4d95-be15-2d52342d7967"
      },
      "execution_count": 4,
      "outputs": [
        {
          "output_type": "stream",
          "name": "stdout",
          "text": [
            "Enter a number (≤ 10): 6\n",
            "\n",
            "--- Recursion Trace ---\n",
            "Call: factorial(6)\n",
            "Recursive Case: factorial(6) = 6 * factorial(5)\n",
            "  Call: factorial(5)\n",
            "  Recursive Case: factorial(5) = 5 * factorial(4)\n",
            "    Call: factorial(4)\n",
            "    Recursive Case: factorial(4) = 4 * factorial(3)\n",
            "      Call: factorial(3)\n",
            "      Recursive Case: factorial(3) = 3 * factorial(2)\n",
            "        Call: factorial(2)\n",
            "        Recursive Case: factorial(2) = 2 * factorial(1)\n",
            "          Call: factorial(1)\n",
            "          Base Case: factorial(1) = 1\n",
            "        Return: factorial(2) = 2\n",
            "      Return: factorial(3) = 6\n",
            "    Return: factorial(4) = 24\n",
            "  Return: factorial(5) = 120\n",
            "Return: factorial(6) = 720\n",
            "\n",
            "Final Result: factorial(6) = 720\n"
          ]
        }
      ]
    },
    {
      "cell_type": "markdown",
      "source": [
        "#Problem-02"
      ],
      "metadata": {
        "id": "Kv866Tv2Hkhq"
      }
    },
    {
      "cell_type": "code",
      "execution_count": 2,
      "metadata": {
        "colab": {
          "base_uri": "https://localhost:8080/"
        },
        "id": "cA8LuscmG02h",
        "outputId": "542c4549-056d-48b0-c5e2-d844e93099b6"
      },
      "outputs": [
        {
          "output_type": "stream",
          "name": "stdout",
          "text": [
            "\n",
            "Factorial Performance Comparison (n = 10)\n",
            "      Method  Execution Time (s)  Memory Usage (bytes)\n",
            "0  Recursive            0.000004                    28\n",
            "1  Iterative            0.000004                    28\n",
            "\n",
            "Summary Table: Time & Space Complexity\n",
            "      Method Time Complexity     Space Complexity\n",
            "0  Recursive            O(n)  O(n) (stack frames)\n",
            "1  Iterative            O(n)                 O(1)\n"
          ]
        }
      ],
      "source": [
        "import time\n",
        "import sys\n",
        "import pandas as pd\n",
        "\n",
        "def factorial_recursive(n):\n",
        "    if n < 0:\n",
        "        raise ValueError(\"Factorial not defined for negative numbers\")\n",
        "    if n == 0 or n == 1:\n",
        "        return 1\n",
        "    return n * factorial_recursive(n - 1)\n",
        "\n",
        "def factorial_iterative(n):\n",
        "    if n < 0:\n",
        "        raise ValueError(\"Factorial not defined for negative numbers\")\n",
        "    result = 1\n",
        "    for i in range(2, n + 1):\n",
        "        result *= i\n",
        "    return result\n",
        "\n",
        "def measure_performance(n):\n",
        "    results = []\n",
        "\n",
        "    try:\n",
        "        start = time.time()\n",
        "        rec_result = factorial_recursive(n)\n",
        "        end = time.time()\n",
        "        results.append({\n",
        "            \"Method\": \"Recursive\",\n",
        "            \"Result\": rec_result,\n",
        "            \"Execution Time (s)\": end - start,\n",
        "            \"Memory Usage (bytes)\": sys.getsizeof(rec_result)\n",
        "        })\n",
        "    except RecursionError:\n",
        "        results.append({\n",
        "            \"Method\": \"Recursive\",\n",
        "            \"Result\": \"RecursionError\",\n",
        "            \"Execution Time (s)\": None,\n",
        "            \"Memory Usage (bytes)\": None\n",
        "        })\n",
        "\n",
        "    start = time.time()\n",
        "    iter_result = factorial_iterative(n)\n",
        "    end = time.time()\n",
        "    results.append({\n",
        "        \"Method\": \"Iterative\",\n",
        "        \"Result\": iter_result,\n",
        "        \"Execution Time (s)\": end - start,\n",
        "        \"Memory Usage (bytes)\": sys.getsizeof(iter_result)\n",
        "    })\n",
        "\n",
        "    return results\n",
        "\n",
        "\n",
        "if __name__ == \"__main__\":\n",
        "    n = 10\n",
        "    results = measure_performance(n)\n",
        "\n",
        "    df = pd.DataFrame(results)\n",
        "    print(\"\\nFactorial Performance Comparison (n = {})\".format(n))\n",
        "    print(df[[\"Method\", \"Execution Time (s)\", \"Memory Usage (bytes)\"]])\n",
        "\n",
        "    summary = pd.DataFrame({\n",
        "        \"Method\": [\"Recursive\", \"Iterative\"],\n",
        "        \"Time Complexity\": [\"O(n)\", \"O(n)\"],\n",
        "        \"Space Complexity\": [\"O(n) (stack frames)\", \"O(1)\"]\n",
        "    })\n",
        "    print(\"\\nSummary Table: Time & Space Complexity\")\n",
        "    print(summary)\n"
      ]
    }
  ]
}