{
  "nbformat": 4,
  "nbformat_minor": 0,
  "metadata": {
    "colab": {
      "provenance": [],
      "authorship_tag": "ABX9TyOhUkyYDW1jvwRjvAHycgQY",
      "include_colab_link": true
    },
    "kernelspec": {
      "name": "python3",
      "display_name": "Python 3"
    },
    "language_info": {
      "name": "python"
    }
  },
  "cells": [
    {
      "cell_type": "markdown",
      "metadata": {
        "id": "view-in-github",
        "colab_type": "text"
      },
      "source": [
        "<a href=\"https://colab.research.google.com/github/MididoddiSindhu05/2303A51462_B-7/blob/main/Lab-4.ipynb\" target=\"_parent\"><img src=\"https://colab.research.google.com/assets/colab-badge.svg\" alt=\"Open In Colab\"/></a>"
      ]
    },
    {
      "cell_type": "code",
      "execution_count": 6,
      "metadata": {
        "colab": {
          "base_uri": "https://localhost:8080/"
        },
        "id": "AZOSa7tuwHik",
        "outputId": "89e6e6bb-0ed6-440e-92ea-dd12d3c0617d"
      },
      "outputs": [
        {
          "output_type": "stream",
          "name": "stdout",
          "text": [
            "Students scoring more than 75 in all subjects:\n",
            "   student_id     name      maths  science  english\n",
            "0        1498  sahithi  99.000000       88    100.0\n",
            "1        1455    sanju  89.000000       77    100.0\n",
            "5        1819    vigna  77.166667       78     93.0\n"
          ]
        }
      ],
      "source": [
        "import pandas as pd\n",
        "\n",
        "df = pd.read_excel(\"/content/lab_4.csv.xlsx\")\n",
        "\n",
        "df.columns = df.columns.str.strip()\n",
        "\n",
        "df_filled = df.fillna(df.mean(numeric_only=True))\n",
        "\n",
        "filtered_students = df_filled[(df_filled.drop(columns=['name']) > 75).all(axis=1)]\n",
        "\n",
        "print(\"Students scoring more than 75 in all subjects:\")\n",
        "print(filtered_students)\n",
        "\n",
        "filtered_students.to_excel(\"filtered_students.xlsx\", index=False)\n"
      ]
    },
    {
      "cell_type": "markdown",
      "source": [
        "#Lab-4(Health Care)"
      ],
      "metadata": {
        "id": "stFbEi9g-WSW"
      }
    },
    {
      "cell_type": "code",
      "source": [
        "import pandas as pd\n",
        "\n",
        "df = pd.read_excel(\"/content/Lab_4(Health Care).csv.xlsx\")\n",
        "\n",
        "df[\"Age\"] = df[\"Age\"].fillna(df[\"Age\"].median())\n",
        "\n",
        "filtered = df[(df[\"Gender\"].str.lower() == \"female\") &\n",
        "              (df[\"Age\"] > 50) &\n",
        "              (df[\"Diagnosis\"].str.lower() == \"diabetes\")]\n",
        "\n",
        "print(\"Female patients above 50 diagnosed with Diabetes:\")\n",
        "print(filtered)\n",
        "\n",
        "filtered.to_csv(\"filtered_patients.csv\", index=False)"
      ],
      "metadata": {
        "colab": {
          "base_uri": "https://localhost:8080/"
        },
        "id": "4w9hRxAX-aQi",
        "outputId": "ebac9c30-3e56-4591-ac3b-0775bfd02bd3"
      },
      "execution_count": 8,
      "outputs": [
        {
          "output_type": "stream",
          "name": "stdout",
          "text": [
            "Female patients above 50 diagnosed with Diabetes:\n",
            "  Patient_ID    Name   Age  Gender Diagnosis       Admission_Date\n",
            "0       P101   Meera  55.0  Female  Diabetes  2025-12-03 00:00:00\n",
            "2       P103  Ananya  52.5  Female  Diabetes            1/25/2025\n",
            "4       P105  Saanvi  72.0  Female  Diabetes  2025-10-02 00:00:00\n",
            "6       P107    Isha  52.5  Female  Diabetes            1/15/2025\n"
          ]
        }
      ]
    }
  ]
}