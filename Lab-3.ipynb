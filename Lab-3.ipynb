{
  "nbformat": 4,
  "nbformat_minor": 0,
  "metadata": {
    "colab": {
      "provenance": [],
      "authorship_tag": "ABX9TyNtf57sXSZ+K1LsfAzQuoHf",
      "include_colab_link": true
    },
    "kernelspec": {
      "name": "python3",
      "display_name": "Python 3"
    },
    "language_info": {
      "name": "python"
    }
  },
  "cells": [
    {
      "cell_type": "markdown",
      "metadata": {
        "id": "view-in-github",
        "colab_type": "text"
      },
      "source": [
        "<a href=\"https://colab.research.google.com/github/MididoddiSindhu05/2303A51462_B-7/blob/main/Lab-3.ipynb\" target=\"_parent\"><img src=\"https://colab.research.google.com/assets/colab-badge.svg\" alt=\"Open In Colab\"/></a>"
      ]
    },
    {
      "cell_type": "code",
      "execution_count": 2,
      "metadata": {
        "colab": {
          "base_uri": "https://localhost:8080/"
        },
        "id": "Zi_3iP7h_tRK",
        "outputId": "4250e6a5-c088-4f04-cd71-f15cdf15896c"
      },
      "outputs": [
        {
          "output_type": "stream",
          "name": "stdout",
          "text": [
            "Matrix A:\n",
            " [[ 8  9  3]\n",
            " [ 9  2  6]\n",
            " [10  5  9]]\n",
            "\n",
            "Matrix B:\n",
            " [[6 5 7]\n",
            " [8 3 7]\n",
            " [7 2 1]]\n",
            "\n",
            "Matrix Addition (A + B):\n",
            " [[14 14 10]\n",
            " [17  5 13]\n",
            " [17  7 10]]\n",
            "\n",
            "Matrix Subtraction (A - B):\n",
            " [[ 2  4 -4]\n",
            " [ 1 -1 -1]\n",
            " [ 3  3  8]]\n"
          ]
        }
      ],
      "source": [
        "import numpy as np\n",
        "\n",
        "A = np.random.randint(1, 11, size=(3, 3))\n",
        "B = np.random.randint(1, 11, size=(3, 3))\n",
        "\n",
        "print(\"Matrix A:\\n\", A)\n",
        "print(\"\\nMatrix B:\\n\", B)\n",
        "\n",
        "add_result = np.add(A, B)\n",
        "sub_result = np.subtract(A, B)\n",
        "\n",
        "print(\"\\nMatrix Addition (A + B):\\n\", add_result)\n",
        "print(\"\\nMatrix Subtraction (A - B):\\n\", sub_result)\n",
        "\n",
        "row, col = 1, 2\n",
        "manual_add = A[row, col] + B[row, col]\n",
        "manual_sub = A[row, col] - B[row, col]\n",
        "\n"
      ]
    },
    {
      "cell_type": "code",
      "source": [
        "import numpy as np\n",
        "import matplotlib.pyplot as plt\n",
        "\n",
        "A = np.random.randint(1, 10, size=(3, 2))\n",
        "B = np.random.randint(1, 10, size=(2, 3))\n",
        "\n",
        "print(\"Matrix A (3x2):\\n\", A)\n",
        "print(\"\\nMatrix B (2x3):\\n\", B)\n",
        "\n",
        "C = np.dot(A, B)\n",
        "print(\"\\nMatrix Multiplication Result (C = A x B):\\n\", C)\n",
        "\n",
        "row, col = 1, 2\n",
        "manual_value = np.sum(A[1, :] * B[:, 2])\n",
        "print(f\"\\nManual check for element at (row={row+1}, col={col+1}):\")\n",
        "print(f\"A[1,:] = {A[1, :]}, B[:,2] = {B[:, 2]}\")\n",
        "print(f\"Dot product = {manual_value} (matches result {C[row, col]})\")\n",
        "\n",
        "fig, axs = plt.subplots(1, 3, figsize=(10, 3))\n",
        "\n",
        "axs[0].imshow(A, cmap=\"Blues\")\n",
        "axs[0].set_title(\"Matrix A (3x2)\")\n",
        "\n",
        "axs[1].imshow(B, cmap=\"Greens\")\n",
        "axs[1].set_title(\"Matrix B (2x3)\")\n",
        "\n",
        "axs[2].imshow(C, cmap=\"Reds\")\n",
        "axs[2].set_title(\"Result C (3x3)\")\n",
        "\n",
        "plt.show()\n"
      ],
      "metadata": {
        "colab": {
          "base_uri": "https://localhost:8080/",
          "height": 609
        },
        "id": "LxT3lruRLgBE",
        "outputId": "1c313ec1-c45f-492b-f172-8a227cdb0ade"
      },
      "execution_count": 2,
      "outputs": [
        {
          "output_type": "stream",
          "name": "stdout",
          "text": [
            "Matrix A (3x2):\n",
            " [[8 3]\n",
            " [3 4]\n",
            " [9 8]]\n",
            "\n",
            "Matrix B (2x3):\n",
            " [[5 4 9]\n",
            " [3 3 4]]\n",
            "\n",
            "Matrix Multiplication Result (C = A x B):\n",
            " [[ 49  41  84]\n",
            " [ 27  24  43]\n",
            " [ 69  60 113]]\n",
            "\n",
            "Manual check for element at (row=2, col=3):\n",
            "A[1,:] = [3 4], B[:,2] = [9 4]\n",
            "Dot product = 43 (matches result 43)\n"
          ]
        },
        {
          "output_type": "display_data",
          "data": {
            "text/plain": [
              "<Figure size 1000x300 with 3 Axes>"
            ],
            "image/png": "[encoded data removed]"
          },
          "metadata": {}
        }
      ]
    }
  ]
}